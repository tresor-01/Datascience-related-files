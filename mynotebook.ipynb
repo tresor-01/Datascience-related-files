{
 "cells": [
  {
   "cell_type": "markdown",
   "id": "049f3ac0",
   "metadata": {},
   "source": [
    "# The Note is done to manipulate the Car data\n"
   ]
  },
  {
   "cell_type": "code",
   "execution_count": null,
   "id": "f014b0f7",
   "metadata": {},
   "outputs": [],
   "source": [
    "import pandas as pd\n",
    "import numpy as np\n",
    "\n",
    "df = pd.reac_csv(./car_specs_combined.csv)"
   ]
  }
 ],
 "metadata": {
  "language_info": {
   "name": "python"
  }
 },
 "nbformat": 4,
 "nbformat_minor": 5
}
